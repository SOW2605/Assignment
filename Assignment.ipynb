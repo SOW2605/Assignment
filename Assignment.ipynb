{
  "nbformat": 4,
  "nbformat_minor": 0,
  "metadata": {
    "colab": {
      "provenance": [],
      "toc_visible": true,
      "authorship_tag": "ABX9TyMjM7oqZU/Fu+mum72VsOTG",
      "include_colab_link": true
    },
    "kernelspec": {
      "name": "python3",
      "display_name": "Python 3"
    },
    "language_info": {
      "name": "python"
    }
  },
  "cells": [
    {
      "cell_type": "markdown",
      "metadata": {
        "id": "view-in-github",
        "colab_type": "text"
      },
      "source": [
        "<a href=\"https://colab.research.google.com/github/SOW2605/Assignment/blob/main/Assignment.ipynb\" target=\"_parent\"><img src=\"https://colab.research.google.com/assets/colab-badge.svg\" alt=\"Open In Colab\"/></a>"
      ]
    },
    {
      "cell_type": "markdown",
      "source": [
        "LIST"
      ],
      "metadata": {
        "id": "iXmrGmGByVzc"
      }
    },
    {
      "cell_type": "code",
      "source": [
        "#Lists\n",
        "list1=[\"page\",\"view\",205,26.05,\"studio\",2510,\"virtual\",False]\n",
        "list2=[\"android\",True,100]\n",
        "print(\"1=\",list1)\n",
        "print(\"2=\",list2)\n",
        "\n",
        "#adding two lists\n",
        "list3=list1+list2\n",
        "print(\"sum=\",list3)\n",
        "print(len(list3))\n",
        "\n",
        "#indexing\n",
        "print(\"\\nIndexing\")\n",
        "print(\"1.\",list3[3])\n",
        "print(\"2.\",list2[-2])\n",
        "print(\"3.\",list3[-6])\n",
        "\n",
        "#Slicing\n",
        "print(\"\\nSlicing\")\n",
        "print(\"1.\",list3[1:5])\n",
        "print(\"2.\",list1[-4:-1])\n",
        "print(\"3.\",list2[:2])\n",
        "print(\"4.\",list3[5:])\n",
        "print(\"5.\",list3[:-5])\n",
        "\n",
        "#Step Indexing\n",
        "print(\"\\nStep Indexing\")\n",
        "print(\"1.\",list3[1:6:2])\n",
        "print(\"2.\",list3[-7::3])\n",
        "print(\"3.\",list3[::4])\n",
        "print(\"4.\",list3[:6:2])"
      ],
      "metadata": {
        "colab": {
          "base_uri": "https://localhost:8080/"
        },
        "id": "d7kPQaE9yZ_1",
        "outputId": "7e2759f1-85c1-43ec-c350-e1b5dde4521e"
      },
      "execution_count": null,
      "outputs": [
        {
          "output_type": "stream",
          "name": "stdout",
          "text": [
            "1= ['page', 'view', 205, 26.05, 'studio', 2510, 'virtual', False]\n",
            "2= ['android', True, 100]\n",
            "sum= ['page', 'view', 205, 26.05, 'studio', 2510, 'virtual', False, 'android', True, 100]\n",
            "11\n",
            "\n",
            "Indexing\n",
            "1. 26.05\n",
            "2. True\n",
            "3. 2510\n",
            "\n",
            "Slicing\n",
            "1. ['view', 205, 26.05, 'studio']\n",
            "2. ['studio', 2510, 'virtual']\n",
            "3. ['android', True]\n",
            "4. [2510, 'virtual', False, 'android', True, 100]\n",
            "5. ['page', 'view', 205, 26.05, 'studio', 2510]\n",
            "\n",
            "Step Indexing\n",
            "1. ['view', 26.05, 2510]\n",
            "2. ['studio', False, 100]\n",
            "3. ['page', 'studio', 'android']\n",
            "4. ['page', 205, 'studio']\n"
          ]
        }
      ]
    },
    {
      "cell_type": "markdown",
      "source": [
        "TUPLE"
      ],
      "metadata": {
        "id": "4IIKge2yNphD"
      }
    },
    {
      "cell_type": "code",
      "source": [
        "tuple1=(\"python\",\"java\",\"c++\",[\"php\",2.5],33.88,True,\"django\",\"mysql\")\n",
        "print(tuple1)\n",
        "print(type(tuple1))\n",
        "print(tuple1[1:5])\n",
        "print(tuple1[1:6:2])"
      ],
      "metadata": {
        "colab": {
          "base_uri": "https://localhost:8080/"
        },
        "id": "jeBPem2lNrwB",
        "outputId": "d7da1a80-5d24-4f3b-dc2b-a7e998b2dfb4"
      },
      "execution_count": null,
      "outputs": [
        {
          "output_type": "stream",
          "name": "stdout",
          "text": [
            "('python', 'java', 'c++', ['php', 2.5], 33.88, True, 'django', 'mysql')\n",
            "<class 'tuple'>\n",
            "('java', 'c++', ['php', 2.5], 33.88)\n",
            "('java', ['php', 2.5], True)\n"
          ]
        }
      ]
    },
    {
      "cell_type": "markdown",
      "source": [
        "DICTIONARY"
      ],
      "metadata": {
        "id": "3fgZtGtAXToy"
      }
    },
    {
      "cell_type": "code",
      "source": [
        "dict1={\"fruit\":\"papaya\",\"vegetable\":(\"tomato\",\"raddish\",\"carrot\"),\"snacks\":\"french fries\",1:\"data science\",2:\"machine learning\"}\n",
        "print(dict1)\n",
        "print(type(dict1))\n",
        "\n",
        "print(dict1[\"fruit\"])\n",
        "\n",
        "#update\n",
        "dict1[\"fruit\"]=[\"apple\",\"banana\",\"orange\"]\n",
        "print(dict1)\n",
        "\n",
        "#adding elements\n",
        "dict1[3]=\"robotics\"  #method 1\n",
        "print(\"\\nupdated dictionary=\",dict1)\n",
        "dict1.update({4:350})   #method2\n",
        "print(\"\\nupdated dictionary 1=\",dict1)\n",
        "\n",
        "#deleting elements\n",
        "del dict1[\"vegetable\"]\n",
        "print(\"\\nafter deleting=\",dict1)\n",
        "\n",
        "# Converting dictinary to list\n",
        "dict_list=list(dict1)\n",
        "print(dict_list)\n",
        "print(dict_list[2])\n",
        "print(dict1[1])"
      ],
      "metadata": {
        "colab": {
          "base_uri": "https://localhost:8080/"
        },
        "id": "u4kzAl_3XYhr",
        "outputId": "6333ffb0-4ed4-4192-a59a-0c2b41a3ba2a"
      },
      "execution_count": null,
      "outputs": [
        {
          "output_type": "stream",
          "name": "stdout",
          "text": [
            "{'fruit': 'papaya', 'vegetable': ('tomato', 'raddish', 'carrot'), 'snacks': 'french fries', 1: 'data science', 2: 'machine learning'}\n",
            "<class 'dict'>\n",
            "papaya\n",
            "{'fruit': ['apple', 'banana', 'orange'], 'vegetable': ('tomato', 'raddish', 'carrot'), 'snacks': 'french fries', 1: 'data science', 2: 'machine learning'}\n",
            "\n",
            "updated dictionary= {'fruit': ['apple', 'banana', 'orange'], 'vegetable': ('tomato', 'raddish', 'carrot'), 'snacks': 'french fries', 1: 'data science', 2: 'machine learning', 3: 'robotics'}\n",
            "\n",
            "updated dictionary 1= {'fruit': ['apple', 'banana', 'orange'], 'vegetable': ('tomato', 'raddish', 'carrot'), 'snacks': 'french fries', 1: 'data science', 2: 'machine learning', 3: 'robotics', 4: 350}\n",
            "\n",
            "after deleting= {'fruit': ['apple', 'banana', 'orange'], 'snacks': 'french fries', 1: 'data science', 2: 'machine learning', 3: 'robotics', 4: 350}\n",
            "['fruit', 'snacks', 1, 2, 3, 4]\n",
            "1\n",
            "data science\n"
          ]
        }
      ]
    },
    {
      "cell_type": "markdown",
      "source": [
        "SLICING"
      ],
      "metadata": {
        "id": "hXXdCkMuhDNo"
      }
    },
    {
      "cell_type": "code",
      "source": [
        "s= \"pseudopseudohypoparathyroidism\"\n",
        "print(s[10])\n",
        "print(s[13:20])\n",
        "print(s[-29:-16])\n",
        "print(s[17:-27])\n",
        "print(s[13:27:3])"
      ],
      "metadata": {
        "colab": {
          "base_uri": "https://localhost:8080/"
        },
        "id": "yX-jnmJAhIc3",
        "outputId": "09a57e88-d220-4ff1-985c-27d555c405bc"
      },
      "execution_count": null,
      "outputs": [
        {
          "output_type": "stream",
          "name": "stdout",
          "text": [
            "d\n",
            "ypopara\n",
            "seudopseudohy\n",
            "\n",
            "ypayi\n"
          ]
        }
      ]
    },
    {
      "cell_type": "markdown",
      "source": [
        "**ASSIGNMENT 3**"
      ],
      "metadata": {
        "id": "IZRFHfwmZhjX"
      }
    },
    {
      "cell_type": "code",
      "source": [
        "with open (\"as_3.txt\",\"w\") as f1:\n",
        "  f1.write(\"My name is Sowmya P Y\\nI am currently persuaing BE degree in Computer Science and Engineering\\nI am studing in Dr AIT\\n \")"
      ],
      "metadata": {
        "id": "qr86mtQmRaX0"
      },
      "execution_count": 1,
      "outputs": []
    },
    {
      "cell_type": "code",
      "source": [
        "with open(\"as_3.txt\",\"r\") as f1:\n",
        "  print(f1.read())"
      ],
      "metadata": {
        "colab": {
          "base_uri": "https://localhost:8080/"
        },
        "id": "YVKVoxlmNnaS",
        "outputId": "9ff2aa49-097d-40ba-bee4-b03a169f58b6"
      },
      "execution_count": null,
      "outputs": [
        {
          "output_type": "stream",
          "name": "stdout",
          "text": [
            "My name is Sowmya P Y\n",
            "I am currently persuaing BE degree in Computer Science and Engineering\n",
            "I am studing in Dr AIT\n",
            " \n"
          ]
        }
      ]
    },
    {
      "cell_type": "code",
      "source": [
        "# r+ = read and then write\n",
        "with open (\"as_3.txt\",\"r+\") as f1:\n",
        "  print(f1.read())\n",
        "  f1.write(\"I am attending the course on Data Science\\nThe course is provided by Teachnook \")"
      ],
      "metadata": {
        "colab": {
          "base_uri": "https://localhost:8080/"
        },
        "id": "_ElxwSRpQn2O",
        "outputId": "1cc133b0-15a9-415d-e903-9b3c6b88483a"
      },
      "execution_count": null,
      "outputs": [
        {
          "output_type": "stream",
          "name": "stdout",
          "text": [
            "My name is Sowmya P Y\n",
            "I am currently persuaing BE degree in Computer Science and Engineering\n",
            "I am studing in Dr AIT\n",
            " \n"
          ]
        }
      ]
    },
    {
      "cell_type": "code",
      "source": [
        "# w+ = write and then reading a file\n",
        "with open(\"as_3.txt\",\"w+\") as f1:\n",
        "  f1.write(\"Hello, this is Sowmya P Y\\nI will graduate in the year 2023\\nMy CGPA till 6th semester is 8.38\")\n",
        "  data=f1.read()\n",
        "  print(data)"
      ],
      "metadata": {
        "colab": {
          "base_uri": "https://localhost:8080/"
        },
        "id": "G5sM7wh2Sc8b",
        "outputId": "67e8b0b2-696e-46d4-d449-3eda9bf1ae61"
      },
      "execution_count": null,
      "outputs": [
        {
          "output_type": "stream",
          "name": "stdout",
          "text": [
            "\n"
          ]
        }
      ]
    },
    {
      "cell_type": "code",
      "source": [
        "# a+ = open for reading and then appending\n",
        "with open(\"as_3.txt\",\"a+\") as f1:\n",
        "  print(f1.read())\n",
        "  f1.write(\"\\nhello world\\nhelloooo world\")"
      ],
      "metadata": {
        "colab": {
          "base_uri": "https://localhost:8080/"
        },
        "id": "D4RABWsjVf2r",
        "outputId": "550e3b12-fa24-49d3-d5c6-724689bf6067"
      },
      "execution_count": null,
      "outputs": [
        {
          "output_type": "stream",
          "name": "stdout",
          "text": [
            "\n"
          ]
        }
      ]
    },
    {
      "cell_type": "code",
      "source": [
        "# reading the final file after r+,w+,a+ mode\n",
        "f1= open(\"as_3.txt\",\"r\")\n",
        "print(f1.read())"
      ],
      "metadata": {
        "colab": {
          "base_uri": "https://localhost:8080/"
        },
        "id": "UKWnCg7DX5yT",
        "outputId": "48449b61-5a43-4c4e-b372-1bfd86673348"
      },
      "execution_count": null,
      "outputs": [
        {
          "output_type": "stream",
          "name": "stdout",
          "text": [
            "Hello, this is Sowmya P Y\n",
            "I will graduate in the year 2023\n",
            "My CGPA till 6th semester is 8.38\n",
            "hello world\n",
            "helloooo world\n"
          ]
        }
      ]
    },
    {
      "cell_type": "code",
      "source": [
        "# CALCULATOR\n",
        "def add(x,y):\n",
        "  return x+y\n",
        "def sub(x,y):\n",
        "  return x-y\n",
        "def mul(x,y):\n",
        "  return x*y\n",
        "def div(x,y):\n",
        "  return x/y\n",
        "\n",
        "print(\"Select an option\\n1.Addition\\n2.Subtraction\\n3.Multiplication\\n4.Division\")\n",
        "\n",
        "option=input(\"option=\")\n",
        "a=int(input(\"Enter the first number=\"))\n",
        "b=int(input(\"Enter the second number=\"))\n",
        "\n",
        "if option=='1':\n",
        "    res1=print(a,\"+\",b,\"=\",add(a,b))\n",
        "elif option=='2':\n",
        "    res2=print(a,\"-\",b,\"=\",sub(a,b))\n",
        "elif option=='3':\n",
        "    res3=print(a,\"*\",b,\"=\",mul(a,b))\n",
        "elif option=='4':\n",
        "    res4=print(a,\"/\",b,\"=\",div(a,b))\n",
        "else:\n",
        "    print(\"Invalid option\")\n"
      ],
      "metadata": {
        "colab": {
          "base_uri": "https://localhost:8080/"
        },
        "id": "kEsemexVZwqj",
        "outputId": "642d6a86-067c-4c1e-de69-124856dfad46"
      },
      "execution_count": null,
      "outputs": [
        {
          "output_type": "stream",
          "name": "stdout",
          "text": [
            "Select an option\n",
            "1.Addition\n",
            "2.Subtraction\n",
            "3.Multiplication\n",
            "4.Division\n",
            "option=3\n",
            "Enter the first number=3\n",
            "Enter the second number=5\n",
            "3 * 5 = 15\n"
          ]
        }
      ]
    }
  ]
}